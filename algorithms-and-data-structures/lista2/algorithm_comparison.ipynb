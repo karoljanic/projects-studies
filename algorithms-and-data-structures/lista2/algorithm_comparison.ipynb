{
 "cells": [
  {
   "cell_type": "code",
   "execution_count": 5,
   "metadata": {},
   "outputs": [],
   "source": [
    "import subprocess as sub\n",
    "import os\n",
    "\n",
    "import matplotlib.pyplot as plt\n",
    "import math"
   ]
  },
  {
   "cell_type": "code",
   "execution_count": 3,
   "metadata": {},
   "outputs": [
    {
     "name": "stdout",
     "output_type": "stream",
     "text": [
      "[1, 10, 100]\n",
      "[2, 3, 4, 5, 6, 7, 8, 9]\n",
      "[20, 30, 40, 50, 60, 70, 80, 90, 100, 110, 120, 130, 140, 150, 160, 170, 180, 190, 200]\n",
      "[2000, 3000, 4000, 5000, 6000, 7000, 8000, 9000, 10000, 11000, 12000, 13000, 14000, 15000, 16000, 17000, 18000, 19000, 20000]\n",
      "['insertion_sort', 'merge_sort', 'quick_sort', 'dual_pivot_quick_sort', 'hybrid_sort']\n"
     ]
    }
   ],
   "source": [
    "K_VALUES =      [10 ** i for i in range(3)]\n",
    "N_MIN_VALUES =  [i for i in range(2, 10)]\n",
    "N_AVG_VALUES =  [10 * i for i in range(2, 21)]\n",
    "N_MAX_VALUES =  [1000 * i for i in range(2, 21)]\n",
    "ALGORITHMS =    ['insertion_sort', 'merge_sort', 'quick_sort', 'dual_pivot_quick_sort', 'hybrid_sort']\n",
    "\n",
    "print(K_VALUES)\n",
    "print(N_MIN_VALUES)\n",
    "print(N_AVG_VALUES)\n",
    "print(N_MAX_VALUES)\n",
    "print(ALGORITHMS)"
   ]
  },
  {
   "cell_type": "code",
   "execution_count": 8,
   "metadata": {},
   "outputs": [],
   "source": [
    "def test_algorithm(algorithm, data_type, repeats, n_values):\n",
    "    comparisons_data = []\n",
    "    swaps_data = []\n",
    "    for n in n_values:\n",
    "        comparisons_sum = 0\n",
    "        swaps_sum = 0\n",
    "        for k in range(repeats):\n",
    "            out = sub.run('./data_generator {} {} | ./{}'.format(data_type, n, algorithm), \n",
    "                            shell=True, capture_output=True, encoding=\"utf-8\")\n",
    "            result = out.stdout.split('\\n')\n",
    "\n",
    "            if len(result) < 3:\n",
    "                continue\n",
    "            \n",
    "            success = bool(result[0])\n",
    "            comparisons = int(result[1])\n",
    "            swaps = int(result[2])\n",
    "\n",
    "            comparisons_sum += comparisons\n",
    "            swaps_sum += swaps\n",
    "\n",
    "        comparisons_data.append(comparisons_sum / repeats / n / math.log(n))\n",
    "        swaps_data.append(swaps_sum / repeats / n / math.log(n))\n",
    "\n",
    "    return comparisons_data, swaps_data\n",
    "            "
   ]
  },
  {
   "cell_type": "code",
   "execution_count": 518,
   "metadata": {},
   "outputs": [],
   "source": [
    "data = {}\n",
    "for k in K_VALUES:\n",
    "    data[k] = {}\n",
    "    for alg in ALGORITHMS:\n",
    "        data[k][alg] = test_algorithm(alg, 'r', k, N_MAX_VALUES)\n"
   ]
  },
  {
   "cell_type": "code",
   "execution_count": 2,
   "metadata": {},
   "outputs": [],
   "source": [
    "colors = ('r', 'g', 'b', 'y', 'm')\n",
    "\n",
    "def compare_algorithms(x, data):\n",
    "    for k, series in data.items():\n",
    "        fig, (ax1, ax2) = plt.subplots(1, 2, figsize=(9, 6))\n",
    "        fig.suptitle('Algorithms Comparison (random data;  k = ' + str(k) + ';  {} < n < {})'.format(x[0], x[-1]))\n",
    "        ax1.set_xlabel('n')\n",
    "        ax1.set_title('Comparision Number')\n",
    "        ax2.set_xlabel('n')\n",
    "        ax2.set_title('Swaps Number')\n",
    "\n",
    "        labels = []\n",
    "        lines = []\n",
    "\n",
    "        i = 0\n",
    "        for alg, ys in series.items():\n",
    "            l1 = ax1.plot(x, ys[0], color=colors[i])\n",
    "            l2 = ax2.plot(x, ys[1], color=colors[i])\n",
    "\n",
    "            lines.append(l1)   \n",
    "            labels.append(alg.replace('_', ' ').title())  \n",
    "\n",
    "            i += 1     \n",
    "\n",
    "        fig.legend(lines, labels=labels, loc='upper right', bbox_to_anchor = (1.16, 0.6))\n",
    "\n",
    "        print('charts/comparision_k={}_n=[{},{}]'.format(k, x[0], x[-1]))\n",
    "        plt.plot()"
   ]
  },
  {
   "cell_type": "code",
   "execution_count": null,
   "metadata": {},
   "outputs": [],
   "source": [
    "compare_algorithms(N_MAX_VALUES, data)"
   ]
  },
  {
   "cell_type": "code",
   "execution_count": 13,
   "metadata": {},
   "outputs": [],
   "source": [
    "for i in range(1000) :\n",
    "    out = sub.run('./data_generator r 1000 | ./dual_pivot_quick_sort', shell=True, capture_output=True, encoding=\"utf-8\")\n",
    "    result = out.stdout.split('\\n')\n",
    "\n",
    "    success = bool(result[0])\n",
    "\n",
    "    if not success:\n",
    "        print('NOT SUCCESS')\n",
    "\n",
    "            "
   ]
  },
  {
   "cell_type": "code",
   "execution_count": 11,
   "metadata": {},
   "outputs": [],
   "source": [
    "quick_sort_data = test_algorithm('quick_sort', 'r', 100, N_MAX_VALUES)\n",
    "dual_pivot_quick_sort_data = test_algorithm('dual_pivot_quick_sort', 'r', 100, N_MAX_VALUES)"
   ]
  },
  {
   "cell_type": "code",
   "execution_count": 12,
   "metadata": {},
   "outputs": [
    {
     "name": "stdout",
     "output_type": "stream",
     "text": [
      "2.064236666274528\n",
      "0.3461860526410561\n",
      "1.5454639372851018\n",
      "0.5223202202832493\n"
     ]
    }
   ],
   "source": [
    "C1 = sum(quick_sort_data[0]) / len(quick_sort_data[0])\n",
    "C2 = sum(quick_sort_data[1]) / len(quick_sort_data[1])\n",
    "\n",
    "print(C1)\n",
    "print(C2)\n",
    "\n",
    "D1 = sum(dual_pivot_quick_sort_data[0]) / len(dual_pivot_quick_sort_data[0])\n",
    "D2 = sum(dual_pivot_quick_sort_data[1]) / len(dual_pivot_quick_sort_data[1])\n",
    "\n",
    "print(D1)\n",
    "print(D2)"
   ]
  },
  {
   "cell_type": "markdown",
   "metadata": {},
   "source": [
    "Wyznaczanie stalej przy nlogn dla QuickSort oraz DualPivot QuickSort:\n",
    "\n",
    "Quick Sort: \n",
    "\n",
    "    liczba porownan : 2.06*nlog(n)\n",
    "\n",
    "    liczba swap'ow  : 0.35*n log(n)\n",
    "\n",
    "Dual Pivot Quick Sort: \n",
    "    \n",
    "    liczba porownan : 1.55*nlog(n)\n",
    "    \n",
    "    liczba swap'ow  : 0.5*nlog(n)"
   ]
  }
 ],
 "metadata": {
  "kernelspec": {
   "display_name": "Python 3.10.10 64-bit",
   "language": "python",
   "name": "python3"
  },
  "language_info": {
   "codemirror_mode": {
    "name": "ipython",
    "version": 3
   },
   "file_extension": ".py",
   "mimetype": "text/x-python",
   "name": "python",
   "nbconvert_exporter": "python",
   "pygments_lexer": "ipython3",
   "version": "3.10.10"
  },
  "orig_nbformat": 4,
  "vscode": {
   "interpreter": {
    "hash": "e7370f93d1d0cde622a1f8e1c04877d8463912d04d973331ad4851f04de6915a"
   }
  }
 },
 "nbformat": 4,
 "nbformat_minor": 2
}
